{
  "nbformat": 4,
  "nbformat_minor": 0,
  "metadata": {
    "colab": {
      "provenance": [],
      "mount_file_id": "14NzaE7UVcH8OXzv-nk_gHKP-OfzFRnHS",
      "authorship_tag": "ABX9TyOax8Y1lr0dnM9vr0vhEPwO",
      "include_colab_link": true
    },
    "kernelspec": {
      "name": "python3",
      "display_name": "Python 3"
    },
    "language_info": {
      "name": "python"
    }
  },
  "cells": [
    {
      "cell_type": "markdown",
      "metadata": {
        "id": "view-in-github",
        "colab_type": "text"
      },
      "source": [
        "<a href=\"https://colab.research.google.com/github/YonggunJung/gitp/blob/main/numpy.ipynb\" target=\"_parent\"><img src=\"https://colab.research.google.com/assets/colab-badge.svg\" alt=\"Open In Colab\"/></a>"
      ]
    },
    {
      "cell_type": "code",
      "execution_count": 35,
      "metadata": {
        "colab": {
          "base_uri": "https://localhost:8080/",
          "height": 54
        },
        "id": "ZyVekNfhrdUt",
        "outputId": "134ee86d-d204-42ee-da69-3c51e948153f"
      },
      "outputs": [
        {
          "output_type": "stream",
          "name": "stdout",
          "text": [
            "/content/drive/MyDrive/Colab Notebooks/github/colab\n"
          ]
        },
        {
          "output_type": "execute_result",
          "data": {
            "text/plain": [
              "'/content/drive/MyDrive/Colab Notebooks/github/colab'"
            ],
            "application/vnd.google.colaboratory.intrinsic+json": {
              "type": "string"
            }
          },
          "metadata": {},
          "execution_count": 35
        }
      ],
      "source": [
        "from os.path import join\n",
        "\n",
        "pj_path = '/content/drive/MyDrive/Colab Notebooks/github/colab/'\n",
        "# 여기 위치로 열기 (파일 생성 장소)\n",
        "%cd '{pj_path}'\n",
        "%pwd"
      ]
    },
    {
      "cell_type": "code",
      "source": [
        "# 열기\n",
        "with open(pj_path + 'HW.txt', 'r') as f:\n",
        "  c = f.read()\n",
        "print(c)"
      ],
      "metadata": {
        "colab": {
          "base_uri": "https://localhost:8080/"
        },
        "id": "rcStHrtssA9L",
        "outputId": "caff86d1-6a78-4297-aa52-c36515c226ca"
      },
      "execution_count": 36,
      "outputs": [
        {
          "output_type": "stream",
          "name": "stdout",
          "text": [
            "헬로우 워울드\n"
          ]
        }
      ]
    },
    {
      "cell_type": "code",
      "source": [
        "import numpy as np\n"
      ],
      "metadata": {
        "id": "zMvOmet5sA6z"
      },
      "execution_count": 37,
      "outputs": []
    },
    {
      "cell_type": "code",
      "source": [
        "np.__version__"
      ],
      "metadata": {
        "colab": {
          "base_uri": "https://localhost:8080/",
          "height": 35
        },
        "id": "UclwI34WsA4I",
        "outputId": "b5d5c651-52d7-441b-ee57-bd26ac6bda96"
      },
      "execution_count": 38,
      "outputs": [
        {
          "output_type": "execute_result",
          "data": {
            "text/plain": [
              "'1.23.5'"
            ],
            "application/vnd.google.colaboratory.intrinsic+json": {
              "type": "string"
            }
          },
          "metadata": {},
          "execution_count": 38
        }
      ]
    },
    {
      "cell_type": "code",
      "source": [
        "len(dir(np))"
      ],
      "metadata": {
        "colab": {
          "base_uri": "https://localhost:8080/"
        },
        "id": "It8Pjgr5sA1k",
        "outputId": "7ad136ec-df84-4c38-ce99-b33c41ecd2d6"
      },
      "execution_count": 39,
      "outputs": [
        {
          "output_type": "execute_result",
          "data": {
            "text/plain": [
              "603"
            ]
          },
          "metadata": {},
          "execution_count": 39
        }
      ]
    },
    {
      "cell_type": "code",
      "source": [
        "# 리스트 생성\n",
        "mylist = [1, 2, 3, 4, 5]\n",
        "type(mylist), mylist"
      ],
      "metadata": {
        "colab": {
          "base_uri": "https://localhost:8080/"
        },
        "id": "MpqFBqh2sAzS",
        "outputId": "92b77d61-3d52-4401-b0d8-6f5a14329fd1"
      },
      "execution_count": 40,
      "outputs": [
        {
          "output_type": "execute_result",
          "data": {
            "text/plain": [
              "(list, [1, 2, 3, 4, 5])"
            ]
          },
          "metadata": {},
          "execution_count": 40
        }
      ]
    },
    {
      "cell_type": "code",
      "source": [
        "# 리스트 를 넘파이 배열로\n",
        "arr = np.array(mylist)\n",
        "type(arr), arr"
      ],
      "metadata": {
        "colab": {
          "base_uri": "https://localhost:8080/"
        },
        "id": "zKGzdR6bsAwy",
        "outputId": "b868e09a-2c8c-41a8-de68-e7c257bf24e7"
      },
      "execution_count": 41,
      "outputs": [
        {
          "output_type": "execute_result",
          "data": {
            "text/plain": [
              "(numpy.ndarray, array([1, 2, 3, 4, 5]))"
            ]
          },
          "metadata": {},
          "execution_count": 41
        }
      ]
    },
    {
      "cell_type": "code",
      "source": [
        "#  콤마 사라짐\n",
        "print(arr)\n",
        "print(type(arr))"
      ],
      "metadata": {
        "colab": {
          "base_uri": "https://localhost:8080/"
        },
        "id": "jAAv7tq8s86j",
        "outputId": "581e5d1c-4540-4022-c975-84d6084c1322"
      },
      "execution_count": 42,
      "outputs": [
        {
          "output_type": "stream",
          "name": "stdout",
          "text": [
            "[1 2 3 4 5]\n",
            "<class 'numpy.ndarray'>\n"
          ]
        }
      ]
    },
    {
      "cell_type": "code",
      "source": [
        "# 리스트 데이터형 혼합 가능\n",
        "#  정수 실수 가능\n",
        "mylist22 = [0, 1, 3.5, 100, -6.7]\n",
        "mylist22"
      ],
      "metadata": {
        "colab": {
          "base_uri": "https://localhost:8080/"
        },
        "id": "QIWlKpXas84Q",
        "outputId": "d4b5041a-013b-4436-f1b4-8dba0fa917fc"
      },
      "execution_count": 43,
      "outputs": [
        {
          "output_type": "execute_result",
          "data": {
            "text/plain": [
              "[0, 1, 3.5, 100, -6.7]"
            ]
          },
          "metadata": {},
          "execution_count": 43
        }
      ]
    },
    {
      "cell_type": "code",
      "source": [
        "# 넘파이 배열 데이터형 혼합 불가 => 단일화\n",
        "#  정수 실수 함께 있으면 실수로 통합\n",
        "arr22 = np.array([0, 1, 3.5, 100, -6.7])\n",
        "arr22"
      ],
      "metadata": {
        "colab": {
          "base_uri": "https://localhost:8080/"
        },
        "id": "-AOckpCks812",
        "outputId": "a39108e5-d940-454c-c759-5853da4cde77"
      },
      "execution_count": 44,
      "outputs": [
        {
          "output_type": "execute_result",
          "data": {
            "text/plain": [
              "array([  0. ,   1. ,   3.5, 100. ,  -6.7])"
            ]
          },
          "metadata": {},
          "execution_count": 44
        }
      ]
    },
    {
      "cell_type": "code",
      "source": [
        "# 문자열형 넘파이 배열\n",
        "# 문자열, 정수, 실수, 불형 => 문자열로 통합\n",
        "arr33 = np.array(['파이썬', '자바', 'HTML', 100, 2.24, True])\n",
        "arr33"
      ],
      "metadata": {
        "colab": {
          "base_uri": "https://localhost:8080/"
        },
        "id": "4eRiyC3js8zH",
        "outputId": "6ff81a2c-9af7-4dec-be50-61aa27b85ebd"
      },
      "execution_count": 45,
      "outputs": [
        {
          "output_type": "execute_result",
          "data": {
            "text/plain": [
              "array(['파이썬', '자바', 'HTML', '100', '2.24', 'True'], dtype='<U32')"
            ]
          },
          "metadata": {},
          "execution_count": 45
        }
      ]
    },
    {
      "cell_type": "code",
      "source": [
        "# 1차원 넘파이 배열\n",
        "arr1 = np.array([1, 2, 3, 4, 5])\n",
        "print(arr1)\n",
        "print(arr1.shape)\n",
        "print(arr1.ndim)\n",
        "print(arr1.size)\n",
        "len(arr1)"
      ],
      "metadata": {
        "colab": {
          "base_uri": "https://localhost:8080/"
        },
        "id": "51EsGTmxs8wo",
        "outputId": "ffac99f8-56ba-4b05-eb0b-d712bd2c45cf"
      },
      "execution_count": 46,
      "outputs": [
        {
          "output_type": "stream",
          "name": "stdout",
          "text": [
            "[1 2 3 4 5]\n",
            "(5,)\n",
            "1\n",
            "5\n"
          ]
        },
        {
          "output_type": "execute_result",
          "data": {
            "text/plain": [
              "5"
            ]
          },
          "metadata": {},
          "execution_count": 46
        }
      ]
    },
    {
      "cell_type": "code",
      "source": [
        "# 2차원 리스트\n",
        "mylist2 = [[1, 2, 3], [100, 200], [1000]]\n",
        "mylist2"
      ],
      "metadata": {
        "colab": {
          "base_uri": "https://localhost:8080/"
        },
        "id": "KpFenXvZsoGH",
        "outputId": "8a5a5ac8-58bc-400b-9f20-b7b5ebd80e70"
      },
      "execution_count": 47,
      "outputs": [
        {
          "output_type": "execute_result",
          "data": {
            "text/plain": [
              "[[1, 2, 3], [100, 200], [1000]]"
            ]
          },
          "metadata": {},
          "execution_count": 47
        }
      ]
    },
    {
      "cell_type": "code",
      "source": [
        "# 2차원 넘파이 배열 구성요소 길이가 다른 경우\n",
        "arr2 = np.array([[1, 2, 3], [100, 200], [1000]])\n",
        "print(arr2)\n",
        "print(arr2.shape)\n",
        "print(arr2.ndim)\n",
        "print(arr2.size)\n",
        "len(arr2)"
      ],
      "metadata": {
        "colab": {
          "base_uri": "https://localhost:8080/"
        },
        "id": "ySpZReLYwAaX",
        "outputId": "fa97678f-3ddd-4351-f3b5-1c213403ab92"
      },
      "execution_count": 48,
      "outputs": [
        {
          "output_type": "stream",
          "name": "stdout",
          "text": [
            "[list([1, 2, 3]) list([100, 200]) list([1000])]\n",
            "(3,)\n",
            "1\n",
            "3\n"
          ]
        },
        {
          "output_type": "stream",
          "name": "stderr",
          "text": [
            "<ipython-input-48-6295cd020c2f>:2: VisibleDeprecationWarning: Creating an ndarray from ragged nested sequences (which is a list-or-tuple of lists-or-tuples-or ndarrays with different lengths or shapes) is deprecated. If you meant to do this, you must specify 'dtype=object' when creating the ndarray.\n",
            "  arr2 = np.array([[1, 2, 3], [100, 200], [1000]])\n"
          ]
        },
        {
          "output_type": "execute_result",
          "data": {
            "text/plain": [
              "3"
            ]
          },
          "metadata": {},
          "execution_count": 48
        }
      ]
    },
    {
      "cell_type": "code",
      "source": [
        "# 2차원 넘파이 배열 구성요소 길이가 같은경우\n",
        "arr3 = np.array([[1, 2, 3], [100, 200,300], [1000, 2000, 3000]])\n",
        "print(arr3)\n",
        "print(arr3.shape)\n",
        "print(arr3.ndim)\n",
        "print(arr3.size)\n",
        "len(arr3)"
      ],
      "metadata": {
        "colab": {
          "base_uri": "https://localhost:8080/"
        },
        "id": "XJjgCmqFwFpL",
        "outputId": "eb46135f-150e-4b94-d23b-e052b269fffc"
      },
      "execution_count": 49,
      "outputs": [
        {
          "output_type": "stream",
          "name": "stdout",
          "text": [
            "[[   1    2    3]\n",
            " [ 100  200  300]\n",
            " [1000 2000 3000]]\n",
            "(3, 3)\n",
            "2\n",
            "9\n"
          ]
        },
        {
          "output_type": "execute_result",
          "data": {
            "text/plain": [
              "3"
            ]
          },
          "metadata": {},
          "execution_count": 49
        }
      ]
    },
    {
      "cell_type": "code",
      "source": [
        "# 리스트 인덱싱\n",
        "mlist = [1, 2, 3, 4, 5]\n",
        "mlist[0], mlist[-1]"
      ],
      "metadata": {
        "colab": {
          "base_uri": "https://localhost:8080/"
        },
        "id": "RR5H4aK8wFm8",
        "outputId": "f15d1322-fb12-4323-fcaa-3f2fc6731e7d"
      },
      "execution_count": 50,
      "outputs": [
        {
          "output_type": "execute_result",
          "data": {
            "text/plain": [
              "(1, 5)"
            ]
          },
          "metadata": {},
          "execution_count": 50
        }
      ]
    },
    {
      "cell_type": "code",
      "source": [
        "# 2차원 리스트 인덱싱\n",
        "mlist2 = [[1, 2, 3], [100, 200], [1000]]\n",
        "mlist2[0], mlist2[-1], mlist2[0][0], mlist2[-2][1]"
      ],
      "metadata": {
        "colab": {
          "base_uri": "https://localhost:8080/"
        },
        "id": "Rqcy20l9wFkm",
        "outputId": "b0de2833-a306-420a-8f20-61e3b8694bab"
      },
      "execution_count": 51,
      "outputs": [
        {
          "output_type": "execute_result",
          "data": {
            "text/plain": [
              "([1, 2, 3], [1000], 1, 200)"
            ]
          },
          "metadata": {},
          "execution_count": 51
        }
      ]
    },
    {
      "cell_type": "code",
      "source": [
        "# 넘파이 배열 인덱싱\n",
        "arr1 = np.array([1, 2, 3, 4, 5])\n",
        "arr1[0], arr1[-1]"
      ],
      "metadata": {
        "colab": {
          "base_uri": "https://localhost:8080/"
        },
        "id": "quTf5HoMwFiF",
        "outputId": "921b86e9-f677-4e2f-9bdb-44ad381e75ad"
      },
      "execution_count": 52,
      "outputs": [
        {
          "output_type": "execute_result",
          "data": {
            "text/plain": [
              "(1, 5)"
            ]
          },
          "metadata": {},
          "execution_count": 52
        }
      ]
    },
    {
      "cell_type": "code",
      "source": [
        "# 2차원 넘파이 배열 인덱싱 - 행인덱스, 열인덱스 가능\n",
        "arr2 = np.array([[1, 2, 3], [100, 200,300], [1000, 2000, 3000]])\n",
        "arr2[0], arr2[0][0], arr2[-1], arr2[-1][0]"
      ],
      "metadata": {
        "colab": {
          "base_uri": "https://localhost:8080/"
        },
        "id": "-tMpvVZdwFf2",
        "outputId": "cae95cdb-dd35-4c84-cfd0-d284d747cf26"
      },
      "execution_count": 53,
      "outputs": [
        {
          "output_type": "execute_result",
          "data": {
            "text/plain": [
              "(array([1, 2, 3]), 1, array([1000, 2000, 3000]), 1000)"
            ]
          },
          "metadata": {},
          "execution_count": 53
        }
      ]
    },
    {
      "cell_type": "code",
      "source": [],
      "metadata": {
        "id": "oKKsBAZryWm2"
      },
      "execution_count": 53,
      "outputs": []
    }
  ]
}